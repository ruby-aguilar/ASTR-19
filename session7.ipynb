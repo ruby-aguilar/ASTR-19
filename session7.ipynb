{
 "cells": [
  {
   "cell_type": "markdown",
   "id": "01d06ee4-bf3e-45e1-a0f2-90068d5172a7",
   "metadata": {},
   "source": [
    "Create a Jupyter notebook, import matplotlib. Write cells that create an array x ranging from [0,1] in 100 steps and that defines a function that returns exp(x). In a new cell use the function to set y=exp(x), and then plot x vs. y. Label the x-axis as “Time [milliseconds]” and the y-axis as “Awesomeness”. Save the figure as a PDF."
   ]
  },
  {
   "cell_type": "code",
   "execution_count": 1,
   "id": "366a9334-97ff-4b13-aa8a-0eda79606281",
   "metadata": {},
   "outputs": [],
   "source": [
    "import numpy as np\n",
    "import matplotlib.pyplot as plt"
   ]
  },
  {
   "cell_type": "markdown",
   "id": "e3c8c598-09ab-4b50-8549-55448b78c7c8",
   "metadata": {},
   "source": [
    "This makes an array x ranging from [0,1] in 100 steps Then it defines the function exp(x) that returns e^x"
   ]
  },
  {
   "cell_type": "code",
   "execution_count": 2,
   "id": "85285286-50ab-43f5-a1d9-cdf2b01c9c58",
   "metadata": {},
   "outputs": [],
   "source": [
    "x = np.linspace(0, 1, 100)\n",
    "\n",
    "def exp(x):\n",
    "    return(np.exp(x))"
   ]
  },
  {
   "cell_type": "code",
   "execution_count": 3,
   "id": "5fe6bf9c-ccff-4df8-88fd-e958367ee506",
   "metadata": {},
   "outputs": [
    {
     "ename": "SyntaxError",
     "evalue": "invalid syntax (2716276575.py, line 1)",
     "output_type": "error",
     "traceback": [
      "\u001b[0;36m  Cell \u001b[0;32mIn[3], line 1\u001b[0;36m\u001b[0m\n\u001b[0;31m    This plots exp(x) on a graph\u001b[0m\n\u001b[0m         ^\u001b[0m\n\u001b[0;31mSyntaxError\u001b[0m\u001b[0;31m:\u001b[0m invalid syntax\n"
     ]
    }
   ],
   "source": [
    "This plots exp(x) on a graph"
   ]
  },
  {
   "cell_type": "code",
   "execution_count": null,
   "id": "49fd3981-5bf7-4795-8575-a404fdd4303f",
   "metadata": {},
   "outputs": [],
   "source": [
    "y = exp(x)\n",
    "\n",
    "plt.plot(x, y)\n",
    "plt.xlabel('Time [milliseconds]')\n",
    "plt.ylabel('Awesomeness')\n",
    "#plt.show()\n",
    "plt.savefig('session_1_of_coding_journal_2.pdf', bbox_inches = 'tight', facecolor = 'white')"
   ]
  }
 ],
 "metadata": {
  "kernelspec": {
   "display_name": "ASTR 19",
   "language": "python",
   "name": "astr19"
  },
  "language_info": {
   "codemirror_mode": {
    "name": "ipython",
    "version": 3
   },
   "file_extension": ".py",
   "mimetype": "text/x-python",
   "name": "python",
   "nbconvert_exporter": "python",
   "pygments_lexer": "ipython3",
   "version": "3.10.12"
  }
 },
 "nbformat": 4,
 "nbformat_minor": 5
}
